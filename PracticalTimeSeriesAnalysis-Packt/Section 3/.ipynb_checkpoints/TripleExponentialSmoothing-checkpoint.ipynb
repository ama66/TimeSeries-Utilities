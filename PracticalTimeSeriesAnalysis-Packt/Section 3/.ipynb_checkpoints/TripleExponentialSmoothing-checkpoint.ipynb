{
 "cells": [
  {
   "cell_type": "code",
   "execution_count": 1,
   "metadata": {
    "collapsed": true
   },
   "outputs": [],
   "source": [
    "from __future__ import print_function\n",
    "import os\n",
    "import pandas as pd\n",
    "import numpy as np\n",
    "%matplotlib inline\n",
    "from matplotlib import pyplot as plt"
   ]
  },
  {
   "cell_type": "code",
   "execution_count": 2,
   "metadata": {
    "collapsed": true
   },
   "outputs": [],
   "source": [
    "os.chdir('E:/Practical Time Series')"
   ]
  },
  {
   "cell_type": "code",
   "execution_count": 3,
   "metadata": {
    "collapsed": true
   },
   "outputs": [],
   "source": [
    "wisc_emp = pd.read_csv('datasets/wisconsin-employment-time-series.csv')"
   ]
  },
  {
   "cell_type": "code",
   "execution_count": 4,
   "metadata": {},
   "outputs": [
    {
     "name": "stdout",
     "output_type": "stream",
     "text": [
      "Shape of the DataFrame: (178, 2)\n"
     ]
    }
   ],
   "source": [
    "print('Shape of the DataFrame:', wisc_emp.shape)"
   ]
  },
  {
   "cell_type": "code",
   "execution_count": 5,
   "metadata": {},
   "outputs": [
    {
     "data": {
      "text/html": [
       "<div>\n",
       "<style>\n",
       "    .dataframe thead tr:only-child th {\n",
       "        text-align: right;\n",
       "    }\n",
       "\n",
       "    .dataframe thead th {\n",
       "        text-align: left;\n",
       "    }\n",
       "\n",
       "    .dataframe tbody tr th {\n",
       "        vertical-align: top;\n",
       "    }\n",
       "</style>\n",
       "<table border=\"1\" class=\"dataframe\">\n",
       "  <thead>\n",
       "    <tr style=\"text-align: right;\">\n",
       "      <th></th>\n",
       "      <th>Month</th>\n",
       "      <th>Employment</th>\n",
       "    </tr>\n",
       "  </thead>\n",
       "  <tbody>\n",
       "    <tr>\n",
       "      <th>0</th>\n",
       "      <td>1961-01</td>\n",
       "      <td>239.6</td>\n",
       "    </tr>\n",
       "    <tr>\n",
       "      <th>1</th>\n",
       "      <td>1961-02</td>\n",
       "      <td>236.4</td>\n",
       "    </tr>\n",
       "    <tr>\n",
       "      <th>2</th>\n",
       "      <td>1961-03</td>\n",
       "      <td>236.8</td>\n",
       "    </tr>\n",
       "    <tr>\n",
       "      <th>3</th>\n",
       "      <td>1961-04</td>\n",
       "      <td>241.5</td>\n",
       "    </tr>\n",
       "    <tr>\n",
       "      <th>4</th>\n",
       "      <td>1961-05</td>\n",
       "      <td>243.7</td>\n",
       "    </tr>\n",
       "    <tr>\n",
       "      <th>5</th>\n",
       "      <td>1961-06</td>\n",
       "      <td>246.1</td>\n",
       "    </tr>\n",
       "    <tr>\n",
       "      <th>6</th>\n",
       "      <td>1961-07</td>\n",
       "      <td>244.1</td>\n",
       "    </tr>\n",
       "    <tr>\n",
       "      <th>7</th>\n",
       "      <td>1961-08</td>\n",
       "      <td>244.2</td>\n",
       "    </tr>\n",
       "    <tr>\n",
       "      <th>8</th>\n",
       "      <td>1961-09</td>\n",
       "      <td>244.8</td>\n",
       "    </tr>\n",
       "    <tr>\n",
       "      <th>9</th>\n",
       "      <td>1961-10</td>\n",
       "      <td>246.6</td>\n",
       "    </tr>\n",
       "  </tbody>\n",
       "</table>\n",
       "</div>"
      ],
      "text/plain": [
       "     Month  Employment\n",
       "0  1961-01       239.6\n",
       "1  1961-02       236.4\n",
       "2  1961-03       236.8\n",
       "3  1961-04       241.5\n",
       "4  1961-05       243.7\n",
       "5  1961-06       246.1\n",
       "6  1961-07       244.1\n",
       "7  1961-08       244.2\n",
       "8  1961-09       244.8\n",
       "9  1961-10       246.6"
      ]
     },
     "execution_count": 5,
     "metadata": {},
     "output_type": "execute_result"
    }
   ],
   "source": [
    "wisc_emp.head(10)"
   ]
  },
  {
   "cell_type": "code",
   "execution_count": 6,
   "metadata": {},
   "outputs": [
    {
     "data": {
      "text/plain": [
       "<matplotlib.axes._subplots.AxesSubplot at 0x9ee1550>"
      ]
     },
     "execution_count": 6,
     "metadata": {},
     "output_type": "execute_result"
    },
    {
     "data": {
      "image/png": "[encoded data removed]",
      "text/plain": [
       "<matplotlib.figure.Figure at 0x38b5e10>"
      ]
     },
     "metadata": {},
     "output_type": "display_data"
    }
   ],
   "source": [
    "wisc_emp.plot()"
   ]
  },
  {
   "cell_type": "code",
   "execution_count": 7,
   "metadata": {},
   "outputs": [
    {
     "data": {
      "text/plain": [
       "1.6916666666666653"
      ]
     },
     "execution_count": 7,
     "metadata": {},
     "output_type": "execute_result"
    }
   ],
   "source": [
    "def initialize_T(x, seasonLength):\n",
    "    total=0.0\n",
    "    for i in range(seasonLength):\n",
    "        total+=float(x[i+seasonLength]-x[i])/seasonLength\n",
    "    return total\n",
    "\n",
    "initialize_T(wisc_emp['Employment'], 12)"
   ]
  },
  {
   "cell_type": "code",
   "execution_count": 8,
   "metadata": {},
   "outputs": [
    {
     "data": {
      "text/plain": [
       "{0: -11.325000000000015,\n",
       " 1: -14.48214285714287,\n",
       " 2: -12.667857142857159,\n",
       " 3: -6.4035714285714453,\n",
       " 4: -1.603571428571444,\n",
       " 5: 1.5535714285714164,\n",
       " 6: 1.0821428571428413,\n",
       " 7: 2.2249999999999801,\n",
       " 8: 3.5392857142857048,\n",
       " 9: 6.8964285714285598,\n",
       " 10: 11.774999999999986,\n",
       " 11: 19.410714285714267}"
      ]
     },
     "execution_count": 8,
     "metadata": {},
     "output_type": "execute_result"
    }
   ],
   "source": [
    "def initialize_seasonalilty(x, seasonLength):\n",
    "    seasons={}\n",
    "    seasonsMean=[]\n",
    "    num_season=int(len(x)/seasonLength)\n",
    "    \n",
    "    for i in range(num_season):\n",
    "        seasonsMean.append(sum(x[seasonLength*i:seasonLength*i+seasonLength])/float(seasonLength))\n",
    "    \n",
    "    \n",
    "    for i in range(seasonLength):\n",
    "        tot=0.0\n",
    "        for j in range(num_season):\n",
    "            tot+=x[seasonLength*j+i]-seasonsMean[j]\n",
    "        seasons[i]=tot/num_season\n",
    "    return seasons\n",
    "            \n",
    "initialize_seasonalilty(wisc_emp['Employment'], 12) "
   ]
  },
  {
   "cell_type": "code",
   "execution_count": 9,
   "metadata": {
    "collapsed": true
   },
   "outputs": [],
   "source": [
    "def triple_exp_smoothing(x, seasonLength, alpha, beta, gamma, h):\n",
    "    yhat=[]\n",
    "    S = initialize_seasonalilty(x, seasonLength)\n",
    "    for i in range(len(x)+h):\n",
    "        if i == 0:\n",
    "            F = x[0]\n",
    "            T = initialize_T(x, seasonLength)\n",
    "            yhat.append(x[0])\n",
    "            continue\n",
    "        if i >= len(x):\n",
    "            m = i - len(x) + 1\n",
    "            yhat.append((F + m*T) + S[i%seasonLength])\n",
    "        else:\n",
    "            obsval = x[i]\n",
    "            F_last, F= F, alpha*(obsval-S[i%seasonLength]) + (1-alpha)*(F+T)\n",
    "            T = beta * (F-F_last) + (1-beta)*T\n",
    "            S[i%seasonLength] = gamma*(obsval-F) + (1-gamma)*S[i%seasonLength]\n",
    "            yhat.append(F+T+S[i%seasonLength])\n",
    "    return yhat"
   ]
  },
  {
   "cell_type": "code",
   "execution_count": 10,
   "metadata": {
    "collapsed": true
   },
   "outputs": [],
   "source": [
    "wisc_emp['TES']=triple_exp_smoothing(wisc_emp['Employment'], 12, 0.4, 0.6, 0.2, 0)"
   ]
  },
  {
   "cell_type": "code",
   "execution_count": 16,
   "metadata": {},
   "outputs": [
    {
     "data": {
      "image/png": "[encoded data removed]",
      "text/plain": [
       "<matplotlib.figure.Figure at 0xa55a550>"
      ]
     },
     "metadata": {},
     "output_type": "display_data"
    }
   ],
   "source": [
    "fig = plt.figure(figsize=(5.5, 5.5))\n",
    "ax = fig.add_subplot(2,1,1)\n",
    "wisc_emp['Employment'].plot(ax=ax)\n",
    "ax.set_title('Beer Production')\n",
    "ax = fig.add_subplot(2,1,2)\n",
    "wisc_emp['TES'].plot(ax=ax, color='r')\n",
    "ax.set_title('Triple Smoothing Forecast')\n",
    "plt.savefig('plots/Section 3/_04_01.png', format='png', dpi=300)"
   ]
  },
  {
   "cell_type": "code",
   "execution_count": null,
   "metadata": {
    "collapsed": true
   },
   "outputs": [],
   "source": []
  }
 ],
 "metadata": {
  "kernelspec": {
   "display_name": "Python 3",
   "language": "python",
   "name": "python3"
  },
  "language_info": {
   "codemirror_mode": {
    "name": "ipython",
    "version": 3
   },
   "file_extension": ".py",
   "mimetype": "text/x-python",
   "name": "python",
   "nbconvert_exporter": "python",
   "pygments_lexer": "ipython3",
   "version": "3.6.3"
  }
 },
 "nbformat": 4,
 "nbformat_minor": 2
}
