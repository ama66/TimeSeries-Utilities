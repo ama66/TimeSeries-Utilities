{
 "cells": [
  {
   "cell_type": "code",
   "execution_count": 12,
   "id": "446fbe14-fc15-4095-8e10-9d9ba2833afa",
   "metadata": {},
   "outputs": [],
   "source": [
    "### Exploring Wavelet Transform\n",
    "import pywt\n",
    "from math import sqrt"
   ]
  },
  {
   "cell_type": "code",
   "execution_count": 2,
   "id": "d994e163-e2fc-4040-a928-30299a9224be",
   "metadata": {},
   "outputs": [
    {
     "name": "stdout",
     "output_type": "stream",
     "text": [
      "haar : ['haar']\n",
      "db : ['db1', 'db2', 'db3', 'db4', 'db5', 'db6', 'db7', 'db8', 'db9', 'db10', 'db11', 'db12', 'db13', 'db14', 'db15', 'db16', 'db17', 'db18', 'db19', 'db20', 'db21', 'db22', 'db23', 'db24', 'db25', 'db26', 'db27', 'db28', 'db29', 'db30', 'db31', 'db32', 'db33', 'db34', 'db35', 'db36', 'db37', 'db38']\n",
      "sym : ['sym2', 'sym3', 'sym4', 'sym5', 'sym6', 'sym7', 'sym8', 'sym9', 'sym10', 'sym11', 'sym12', 'sym13', 'sym14', 'sym15', 'sym16', 'sym17', 'sym18', 'sym19', 'sym20']\n",
      "coif : ['coif1', 'coif2', 'coif3', 'coif4', 'coif5', 'coif6', 'coif7', 'coif8', 'coif9', 'coif10', 'coif11', 'coif12', 'coif13', 'coif14', 'coif15', 'coif16', 'coif17']\n",
      "bior : ['bior1.1', 'bior1.3', 'bior1.5', 'bior2.2', 'bior2.4', 'bior2.6', 'bior2.8', 'bior3.1', 'bior3.3', 'bior3.5', 'bior3.7', 'bior3.9', 'bior4.4', 'bior5.5', 'bior6.8']\n",
      "rbio : ['rbio1.1', 'rbio1.3', 'rbio1.5', 'rbio2.2', 'rbio2.4', 'rbio2.6', 'rbio2.8', 'rbio3.1', 'rbio3.3', 'rbio3.5', 'rbio3.7', 'rbio3.9', 'rbio4.4', 'rbio5.5', 'rbio6.8']\n",
      "dmey : ['dmey']\n",
      "gaus : ['gaus1', 'gaus2', 'gaus3', 'gaus4', 'gaus5', 'gaus6', 'gaus7', 'gaus8']\n",
      "mexh : ['mexh']\n",
      "morl : ['morl']\n",
      "cgau : ['cgau1', 'cgau2', 'cgau3', 'cgau4', 'cgau5', 'cgau6', 'cgau7', 'cgau8']\n",
      "shan : ['shan']\n",
      "fbsp : ['fbsp']\n",
      "cmor : ['cmor']\n"
     ]
    }
   ],
   "source": [
    "for family in pywt.families():\n",
    "    print(family, \":\", pywt.wavelist(family))"
   ]
  },
  {
   "cell_type": "code",
   "execution_count": 3,
   "id": "97e3a49b-1693-4888-9866-905b5513d231",
   "metadata": {},
   "outputs": [],
   "source": [
    "w1=pywt.Wavelet(\"db2\") #DWT "
   ]
  },
  {
   "cell_type": "code",
   "execution_count": 8,
   "id": "5a738c86-2b4a-4be4-8241-77d463b0ebdf",
   "metadata": {},
   "outputs": [],
   "source": [
    "w2=pywt.ContinuousWavelet(\"gaus2\") #CWT"
   ]
  },
  {
   "cell_type": "code",
   "execution_count": 9,
   "id": "25065c50-95ed-4888-ad51-bb5476e99eb3",
   "metadata": {},
   "outputs": [
    {
     "name": "stdout",
     "output_type": "stream",
     "text": [
      "ContinuousWavelet gaus2\n",
      "  Family name:    Gaussian\n",
      "  Short name:     gaus\n",
      "  Symmetry:       symmetric\n",
      "  DWT:            False\n",
      "  CWT:            True\n",
      "  Complex CWT:    False\n"
     ]
    }
   ],
   "source": [
    "print(w2)"
   ]
  },
  {
   "cell_type": "code",
   "execution_count": 11,
   "id": "4206cc73-5a55-4a2d-9441-932bd080d73d",
   "metadata": {},
   "outputs": [
    {
     "data": {
      "text/plain": [
       "([-0.12940952255126037,\n",
       "  0.2241438680420134,\n",
       "  0.8365163037378079,\n",
       "  0.48296291314453416],\n",
       " [-0.48296291314453416,\n",
       "  0.8365163037378079,\n",
       "  -0.2241438680420134,\n",
       "  -0.12940952255126037],\n",
       " [0.48296291314453416,\n",
       "  0.8365163037378079,\n",
       "  0.2241438680420134,\n",
       "  -0.12940952255126037],\n",
       " [-0.12940952255126037,\n",
       "  -0.2241438680420134,\n",
       "  0.8365163037378079,\n",
       "  -0.48296291314453416])"
      ]
     },
     "execution_count": 11,
     "metadata": {},
     "output_type": "execute_result"
    }
   ],
   "source": [
    "w1.filter_bank"
   ]
  },
  {
   "cell_type": "code",
   "execution_count": 13,
   "id": "cfc1095a-c167-4c42-a8d7-4e4b8e19523a",
   "metadata": {},
   "outputs": [],
   "source": [
    "## Create Custom Wavelet Objects\n",
    "custom_filter_bank=[[sqrt(2)/2 ,sqrt(2)/2 ],[-sqrt(2)/2 , sqrt(2)/2],[sqrt(2)/2,sqrt(2)/2],[sqrt(2)/2,-sqrt(2)/2]]"
   ]
  },
  {
   "cell_type": "code",
   "execution_count": 15,
   "id": "6fa1783b-0ce7-4946-a8a8-d0694b105cd8",
   "metadata": {},
   "outputs": [],
   "source": [
    "MyWavelet=pywt.Wavelet(\"CustomWavelet\",filter_bank=custom_filter_bank)"
   ]
  },
  {
   "cell_type": "code",
   "execution_count": 17,
   "id": "74479b58-aa76-4623-ad7e-611edcacab56",
   "metadata": {},
   "outputs": [
    {
     "name": "stdout",
     "output_type": "stream",
     "text": [
      "Wavelet CustomWavelet\n",
      "  Family name:\n",
      "  Short name:\n",
      "  Filters length: 2\n",
      "  Orthogonal:     False\n",
      "  Biorthogonal:   False\n",
      "  Symmetry:       unknown\n",
      "  DWT:            True\n",
      "  CWT:            False\n"
     ]
    }
   ],
   "source": [
    "print(MyWavelet)"
   ]
  },
  {
   "cell_type": "code",
   "execution_count": 26,
   "id": "16f0e801-8277-4223-911d-6a6bb843d485",
   "metadata": {},
   "outputs": [],
   "source": [
    "## Wave fun to approximate of the wavelet and scale function \n",
    "## Wavelet.wavefun(level) level indicates level of approximation\n",
    "w= pywt.Wavelet('sym3') \n",
    "#for orthogonal wavelets returns approximations of scaling function and wavelet function with corresponding x-grid coordinates\n",
    "(phi , psi,x) = w.wavefun(level=5)\n"
   ]
  },
  {
   "cell_type": "code",
   "execution_count": 31,
   "id": "2885f6a9-826b-41b8-a257-69a72905708d",
   "metadata": {},
   "outputs": [],
   "source": [
    "w2=pywt.Wavelet('bior1.3')\n",
    "(phi_d, psi_d, phi_r,psi_r,x)= w2.wavefun(level=3) ## As level increases we get better approx of wavelet scaling function but that increases\n",
    "## the computational burden \n"
   ]
  },
  {
   "cell_type": "code",
   "execution_count": 32,
   "id": "18380929-26fe-4b0b-8f8d-1b380a326cc4",
   "metadata": {},
   "outputs": [],
   "source": [
    "## Apply wavelet transform to a signal x\n",
    "x=[3,7,1,1,-2,5,4,6]\n",
    "cA,cD=pywt.dwt(x,'sym3') \n",
    "\n"
   ]
  },
  {
   "cell_type": "code",
   "execution_count": 35,
   "id": "1f574a02-f667-4002-93d6-b96778aa18e1",
   "metadata": {},
   "outputs": [
    {
     "data": {
      "text/plain": [
       "(array([-2.11206142, -2.64704675, -3.16825651, -0.67715519,  0.56811154,\n",
       "         2.70377533]),\n",
       " array([ 3.94393174,  5.13370878,  7.31813271, -0.58565539,  4.02681785,\n",
       "         7.89359325]))"
      ]
     },
     "execution_count": 35,
     "metadata": {},
     "output_type": "execute_result"
    }
   ],
   "source": [
    "cD ,cA "
   ]
  },
  {
   "cell_type": "code",
   "execution_count": 38,
   "id": "85bfc781-6b3b-4dba-beae-57e7281be044",
   "metadata": {},
   "outputs": [
    {
     "data": {
      "text/plain": [
       "array([ 3.,  7.,  1.,  1., -2.,  5.,  4.,  6.])"
      ]
     },
     "execution_count": 38,
     "metadata": {},
     "output_type": "execute_result"
    }
   ],
   "source": [
    "y=pywt.idwt(cA,cD,'sym3')  ## inverse wavelet transform ....# you can remove noise from the signal by setting threshold on the coefficients and then inverse wavelet transform\n",
    "y"
   ]
  },
  {
   "cell_type": "code",
   "execution_count": 39,
   "id": "ee868f51-a485-4c19-80b2-80b817ae4ff2",
   "metadata": {},
   "outputs": [],
   "source": [
    "## Signal Extension Modes \n",
    "aa = pywt.Wavelet('sym3')\n",
    "cA,cD =pywt.dwt(x,wavelet=aa , mode='zero')  ## padding is zero outside border of the signal..default mode is symmetry ..can also use constant mode\n",
    "  \n"
   ]
  },
  {
   "cell_type": "code",
   "execution_count": 40,
   "id": "af51eb20-6a82-4f05-9dff-2e0482594890",
   "metadata": {},
   "outputs": [
    {
     "data": {
      "text/plain": [
       "array([ 1.19006969,  1.54362308,  0.44828774, -0.25881905,  0.48296291,\n",
       "        0.8365163 ])"
      ]
     },
     "execution_count": 40,
     "metadata": {},
     "output_type": "execute_result"
    }
   ],
   "source": [
    "pywt.idwt([1,2,0,1],None,'db2','symmetric') ## one way of inverse wavelet transform"
   ]
  },
  {
   "cell_type": "code",
   "execution_count": 41,
   "id": "69313d24-b9fb-44e3-a4a2-1444f7709441",
   "metadata": {},
   "outputs": [
    {
     "data": {
      "text/plain": [
       "array([ 0.57769726, -0.93125065,  1.67303261, -0.96592583, -0.12940952,\n",
       "       -0.22414387])"
      ]
     },
     "execution_count": 41,
     "metadata": {},
     "output_type": "execute_result"
    }
   ],
   "source": [
    "pywt.idwt(None, [1,2,0,1],'db2','symmetric')## one way of inverse wavelet transform"
   ]
  },
  {
   "cell_type": "code",
   "execution_count": 42,
   "id": "f68e0dc6-b64c-4827-b1d0-9a093d3d800a",
   "metadata": {},
   "outputs": [
    {
     "data": {
      "text/plain": [
       "array([ 1.19006969,  1.54362308,  0.44828774, -0.25881905,  0.48296291,\n",
       "        0.8365163 ])"
      ]
     },
     "execution_count": 42,
     "metadata": {},
     "output_type": "execute_result"
    }
   ],
   "source": [
    "pywt.idwt([1,2,0,1],[0,0,0,0],'db2','symmetric')## one way of inverse wavelet transform input vectors should have same length if both specified"
   ]
  },
  {
   "cell_type": "code",
   "execution_count": 49,
   "id": "f3df4cf2-3b43-4515-904e-233ee453f450",
   "metadata": {},
   "outputs": [
    {
     "data": {
      "text/plain": [
       "[array([ 2.12132034,  4.94974747,  7.77817459, 10.60660172]),\n",
       " array([-0.70710678, -0.70710678, -0.70710678, -0.70710678])]"
      ]
     },
     "execution_count": 49,
     "metadata": {},
     "output_type": "execute_result"
    }
   ],
   "source": [
    "x=[1,2,3,4,5,6,7,8]\n",
    "coeffs=pywt.wavedec(x,'db1',level=1)\n",
    "coeffs"
   ]
  },
  {
   "cell_type": "code",
   "execution_count": 50,
   "id": "351cae7b-4beb-4073-bbb2-be7d89ceb165",
   "metadata": {},
   "outputs": [
    {
     "data": {
      "text/plain": [
       "[array([ 5., 13.]),\n",
       " array([-2., -2.]),\n",
       " array([-0.70710678, -0.70710678, -0.70710678, -0.70710678])]"
      ]
     },
     "execution_count": 50,
     "metadata": {},
     "output_type": "execute_result"
    }
   ],
   "source": [
    "## Multilevel 1D wavelet transform\n",
    "x=[1,2,3,4,5,6,7,8]\n",
    "coeffs=pywt.wavedec(x,'db1',level=2)\n",
    "coeffs  ## Note array size is half of the input and with every level size is halved  "
   ]
  },
  {
   "cell_type": "code",
   "execution_count": 47,
   "id": "347ab40b-f6d5-41c9-ab6b-554f5798f435",
   "metadata": {},
   "outputs": [
    {
     "data": {
      "text/plain": [
       "[array([12.72792206]),\n",
       " array([-5.65685425]),\n",
       " array([-2., -2.]),\n",
       " array([-0.70710678, -0.70710678, -0.70710678, -0.70710678])]"
      ]
     },
     "execution_count": 47,
     "metadata": {},
     "output_type": "execute_result"
    }
   ],
   "source": [
    "x=[1,2,3,4,5,6,7,8]\n",
    "coeffs=pywt.wavedec(x,'db1',level=3)\n",
    "coeffs"
   ]
  },
  {
   "cell_type": "code",
   "execution_count": 51,
   "id": "26a4f887-d765-42fc-9e72-935f425b712a",
   "metadata": {},
   "outputs": [],
   "source": [
    "cA2,cD2,cD1=pywt.wavedec(x,'db1',level=2)"
   ]
  },
  {
   "cell_type": "code",
   "execution_count": 52,
   "id": "02eee849-7f3a-428e-b261-b45b5de631cd",
   "metadata": {},
   "outputs": [
    {
     "data": {
      "text/plain": [
       "array([ 5., 13.])"
      ]
     },
     "execution_count": 52,
     "metadata": {},
     "output_type": "execute_result"
    }
   ],
   "source": [
    "cA2"
   ]
  },
  {
   "cell_type": "code",
   "execution_count": 53,
   "id": "ffb406f2-dab9-455c-99be-5f495d80e5fc",
   "metadata": {},
   "outputs": [
    {
     "data": {
      "text/plain": [
       "array([-2., -2.])"
      ]
     },
     "execution_count": 53,
     "metadata": {},
     "output_type": "execute_result"
    }
   ],
   "source": [
    "cD2"
   ]
  },
  {
   "cell_type": "code",
   "execution_count": 54,
   "id": "2e2e2c3d-3d6f-4628-87e6-7a30f831a3f3",
   "metadata": {},
   "outputs": [
    {
     "data": {
      "text/plain": [
       "array([-0.70710678, -0.70710678, -0.70710678, -0.70710678])"
      ]
     },
     "execution_count": 54,
     "metadata": {},
     "output_type": "execute_result"
    }
   ],
   "source": [
    "cD1"
   ]
  },
  {
   "cell_type": "code",
   "execution_count": 57,
   "id": "c16e7624-1dea-479b-a6c0-cc4657e62f71",
   "metadata": {},
   "outputs": [
    {
     "data": {
      "text/plain": [
       "array([-0.03467518,  2.31078903,  5.13921616,  7.96764328, 10.07287082])"
      ]
     },
     "execution_count": 57,
     "metadata": {},
     "output_type": "execute_result"
    }
   ],
   "source": [
    "#partial Discrete wavelet transform data decomposition downcoeff\n",
    "(cA,cD)=pywt.dwt(x,'db2','zero')\n",
    "coeff=pywt.downcoef('a',x,'db2',mode='zero',level=1) # 'a' for approximation coefficient and 'd' for detail coefficient\n",
    "coeff"
   ]
  },
  {
   "cell_type": "code",
   "execution_count": 59,
   "id": "bae8b60c-0707-4fcb-bd54-b5f86101e5e8",
   "metadata": {},
   "outputs": [
    {
     "data": {
      "text/plain": [
       "array([-1.29409523e-01,  1.66533454e-16,  3.33066907e-16,  2.22044605e-16,\n",
       "       -2.69901760e+00])"
      ]
     },
     "execution_count": 59,
     "metadata": {},
     "output_type": "execute_result"
    }
   ],
   "source": [
    "coeff=pywt.downcoef('d',x,'db2',mode='zero',level=1) \n",
    "coeff"
   ]
  },
  {
   "cell_type": "code",
   "execution_count": 60,
   "id": "102c3e69-6cbf-49a8-a2ef-5d664aed86ae",
   "metadata": {},
   "outputs": [
    {
     "data": {
      "text/plain": [
       "array([-1.24049596,  6.77394497, -2.56632118])"
      ]
     },
     "execution_count": 60,
     "metadata": {},
     "output_type": "execute_result"
    }
   ],
   "source": [
    "coeff=pywt.downcoef('d',x,'db2',mode='zero',level=3) \n",
    "coeff"
   ]
  },
  {
   "cell_type": "code",
   "execution_count": 63,
   "id": "30fbb8cf-909f-447f-836d-ddd4077de5ea",
   "metadata": {},
   "outputs": [],
   "source": [
    "# 2D Forward and Inverse Discrete Wavelet Transform  pip install opencv-python\n",
    "import cv2"
   ]
  },
  {
   "cell_type": "code",
   "execution_count": 104,
   "id": "54b8c40c-6ab4-4247-9a48-d6b89c65166f",
   "metadata": {},
   "outputs": [],
   "source": [
    "img=cv2.imread('python-logo.png',0)\n",
    "coeffs=pywt.dwt2(img,'haar')\n",
    "cA,(cH,cV,cD)=coeffs\n",
    "img_out=pywt.idwt2(coeffs,'haar')"
   ]
  },
  {
   "cell_type": "code",
   "execution_count": 68,
   "id": "64d06657-43c2-4728-8d1f-9c7b4aed9dcc",
   "metadata": {},
   "outputs": [],
   "source": [
    "coeffs=pywt.wavedec2(img,'haar','zero',level=1)\n",
    "cA,(cH,cV,cD)=coeffs\n",
    "img_out=pywt.waverec2(coeffs,'haar','zero')"
   ]
  },
  {
   "cell_type": "code",
   "execution_count": 72,
   "id": "5c74edea-4298-4c27-aef8-959ce2ffae91",
   "metadata": {},
   "outputs": [],
   "source": [
    "coeffs=pywt.wavedec2(img,'haar','zero',level=2)\n",
    "cA,(cH2,cV2,cD2),(cH1,cV1,cD1) =coeffs\n",
    "img_out=pywt.waverec2(coeffs,'haar','zero')"
   ]
  },
  {
   "cell_type": "code",
   "execution_count": 73,
   "id": "5c02e239-5c9c-4892-90dc-42c9ace709e6",
   "metadata": {},
   "outputs": [],
   "source": [
    "#nD Forward and Discrete Wavelet Transform \n",
    "coeffs=pywt.dwtn(img,'haar')\n",
    "img_out=pywt.idwtn(coeffs,'haar')\n"
   ]
  },
  {
   "cell_type": "code",
   "execution_count": 76,
   "id": "50d6a685-4c93-4eed-9a98-2d55a9ed0441",
   "metadata": {},
   "outputs": [
    {
     "data": {
      "text/plain": [
       "dict_keys(['aaa', 'aad', 'ada', 'add', 'daa', 'dad', 'dda', 'ddd'])"
      ]
     },
     "execution_count": 76,
     "metadata": {},
     "output_type": "execute_result"
    }
   ],
   "source": [
    "coeffs.keys() ## dictionary  'aad' approx on 1st and 2nd dimension and detail on the third dimension \n"
   ]
  },
  {
   "cell_type": "code",
   "execution_count": 78,
   "id": "caaa8c61-8362-46b1-bf40-11fd1af5bb41",
   "metadata": {},
   "outputs": [],
   "source": [
    "coeffs=pywt.wavedecn(img,'haar','zero',level=1)\n",
    "img_out=pywt.waverecn(coeffs,'haar','zero')"
   ]
  },
  {
   "cell_type": "code",
   "execution_count": 82,
   "id": "22e9c32b-0f2f-4970-8fda-f2b95e8a0f6a",
   "metadata": {},
   "outputs": [
    {
     "data": {
      "text/plain": [
       "dict_keys(['aad', 'ada', 'add', 'daa', 'dad', 'dda', 'ddd'])"
      ]
     },
     "execution_count": 82,
     "metadata": {},
     "output_type": "execute_result"
    }
   ],
   "source": [
    "coeffs[1].keys()"
   ]
  },
  {
   "cell_type": "code",
   "execution_count": 84,
   "id": "a2e2b5fb-2652-4b72-938b-4973931a8dc9",
   "metadata": {},
   "outputs": [
    {
     "data": {
      "text/plain": [
       "array([[[718.42048969, 359.21024484],\n",
       "        [718.42048969, 359.21024484],\n",
       "        [718.42048969, 359.21024484],\n",
       "        ...,\n",
       "        [718.42048969, 359.21024484],\n",
       "        [718.42048969, 359.21024484],\n",
       "        [718.42048969, 359.21024484]],\n",
       "\n",
       "       [[718.42048969, 359.21024484],\n",
       "        [718.42048969, 359.21024484],\n",
       "        [718.42048969, 359.21024484],\n",
       "        ...,\n",
       "        [718.42048969, 359.21024484],\n",
       "        [718.42048969, 359.21024484],\n",
       "        [718.42048969, 359.21024484]],\n",
       "\n",
       "       [[718.42048969, 359.21024484],\n",
       "        [718.42048969, 359.21024484],\n",
       "        [718.42048969, 359.21024484],\n",
       "        ...,\n",
       "        [718.42048969, 359.21024484],\n",
       "        [718.42048969, 359.21024484],\n",
       "        [718.42048969, 359.21024484]],\n",
       "\n",
       "       ...,\n",
       "\n",
       "       [[300.520382  , 150.260191  ],\n",
       "        [288.49956672, 144.24978336],\n",
       "        [283.54981926, 141.77490963],\n",
       "        ...,\n",
       "        [718.42048969, 359.21024484],\n",
       "        [718.42048969, 359.21024484],\n",
       "        [718.42048969, 359.21024484]],\n",
       "\n",
       "       [[695.79307269, 347.89653634],\n",
       "        [590.43416229, 295.21708115],\n",
       "        [429.21381618, 214.60690809],\n",
       "        ...,\n",
       "        [718.42048969, 359.21024484],\n",
       "        [718.42048969, 359.21024484],\n",
       "        [718.42048969, 359.21024484]],\n",
       "\n",
       "       [[716.29916934, 358.14958467],\n",
       "        [704.98546084, 352.49273042],\n",
       "        [717.00627612, 358.50313806],\n",
       "        ...,\n",
       "        [718.42048969, 359.21024484],\n",
       "        [718.42048969, 359.21024484],\n",
       "        [718.42048969, 359.21024484]]])"
      ]
     },
     "execution_count": 84,
     "metadata": {},
     "output_type": "execute_result"
    }
   ],
   "source": [
    "coeffs[0] # this is 'aaa'"
   ]
  },
  {
   "cell_type": "code",
   "execution_count": 85,
   "id": "03def534-d4dd-455f-abd4-7d8b191f40e9",
   "metadata": {},
   "outputs": [],
   "source": [
    "#Handling DWT coefficients\n"
   ]
  },
  {
   "cell_type": "code",
   "execution_count": 89,
   "id": "30770d3f-af31-4220-9c92-95ebe5420361",
   "metadata": {},
   "outputs": [],
   "source": [
    "x=[1, 2, 3, 4, 5, 6, 7, 8]\n",
    "coeffs=pywt.wavedec(x,'haar','symmetric',level=1)\n",
    "arr,coeff_slices=pywt.coeffs_to_array(coeffs)"
   ]
  },
  {
   "cell_type": "code",
   "execution_count": 91,
   "id": "379eafac-7459-43a8-b52d-355feea6f66c",
   "metadata": {},
   "outputs": [
    {
     "data": {
      "text/plain": [
       "[(slice(None, 4, None),), {'d': (slice(4, 8, None),)}]"
      ]
     },
     "execution_count": 91,
     "metadata": {},
     "output_type": "execute_result"
    }
   ],
   "source": [
    "coeff_slices"
   ]
  },
  {
   "cell_type": "code",
   "execution_count": 92,
   "id": "3abd6f87-33e1-4ebd-97b1-3c3bae28c3e0",
   "metadata": {},
   "outputs": [
    {
     "data": {
      "text/plain": [
       "array([ 2.12132034,  4.94974747,  7.77817459, 10.60660172, -0.70710678,\n",
       "       -0.70710678, -0.70710678, -0.70710678])"
      ]
     },
     "execution_count": 92,
     "metadata": {},
     "output_type": "execute_result"
    }
   ],
   "source": [
    "arr"
   ]
  },
  {
   "cell_type": "code",
   "execution_count": 93,
   "id": "afbc1d87-642c-4d23-8f2a-efca68a3af66",
   "metadata": {},
   "outputs": [],
   "source": [
    "coeff_from_arr=pywt.array_to_coeffs(arr,coeff_slices,output_format='wavedec')\n"
   ]
  },
  {
   "cell_type": "code",
   "execution_count": 95,
   "id": "cf46ee71-e680-49b1-9083-39f9b6c47ff6",
   "metadata": {},
   "outputs": [
    {
     "data": {
      "text/plain": [
       "[array([ 2.12132034,  4.94974747,  7.77817459, 10.60660172]),\n",
       " array([-0.70710678, -0.70710678, -0.70710678, -0.70710678])]"
      ]
     },
     "execution_count": 95,
     "metadata": {},
     "output_type": "execute_result"
    }
   ],
   "source": [
    "coeff_from_arr"
   ]
  },
  {
   "cell_type": "code",
   "execution_count": 96,
   "id": "c236a233-5b49-404c-8177-566f34d1e1ce",
   "metadata": {},
   "outputs": [],
   "source": [
    "## Handling DWT Coefficients\n",
    "cam=pywt.data.camera()"
   ]
  },
  {
   "cell_type": "code",
   "execution_count": 99,
   "id": "8c1dd38c-3d90-476e-bfda-003b5e90d0e4",
   "metadata": {},
   "outputs": [],
   "source": [
    "coeffs=pywt.wavedecn(cam,'db2',level=3)\n",
    "arr,coeff_slices,coeff_shapes=pywt.ravel_coeffs(coeffs)"
   ]
  },
  {
   "cell_type": "code",
   "execution_count": 103,
   "id": "d9f7cf94-3bba-4284-9172-46e777b53b95",
   "metadata": {},
   "outputs": [],
   "source": [
    "coeff_from_arr=pywt.unravel_coeffs(arr,coeff_slices,coeff_shapes,output_format='wavedecn')\n",
    "cam_recon=pywt.waverecn(coeff_from_arr,wavelet='db2')"
   ]
  },
  {
   "cell_type": "code",
   "execution_count": 109,
   "id": "c97d27f5-c86d-4ded-8b00-2bf67e35e0e6",
   "metadata": {},
   "outputs": [],
   "source": [
    "##Stationary Wavelet Transform \n",
    "coeffs1=pywt.swt(x,'db2',level=3)\n",
    "img=cv2.imread('python-logo.png',0)\n",
    "# coeffs2=pywt.swt2(img,'haar',level=2)\n",
    "# coeffsn=pywt.swtn(img,'haar',level=2)"
   ]
  },
  {
   "cell_type": "code",
   "execution_count": 110,
   "id": "0b45d14f-fdb9-4567-a477-f3bfa0143289",
   "metadata": {},
   "outputs": [
    {
     "data": {
      "text/plain": [
       "array([1., 2., 3., 4., 5., 6., 7., 8.])"
      ]
     },
     "execution_count": 110,
     "metadata": {},
     "output_type": "execute_result"
    }
   ],
   "source": [
    "y=pywt.iswt(coeffs1,'db2')\n",
    "y"
   ]
  },
  {
   "cell_type": "code",
   "execution_count": 112,
   "id": "e4f8da69-7724-4943-9419-2e6c81126872",
   "metadata": {},
   "outputs": [],
   "source": [
    "#y2=pywt.iswt2(coeffs2,'haar')\n",
    "#yn=pywt.iswt2(coeffsn,'haar')\n"
   ]
  },
  {
   "cell_type": "code",
   "execution_count": 113,
   "id": "9ed702e2-aaa9-4a70-a4d8-1d2d078a7fa3",
   "metadata": {},
   "outputs": [
    {
     "data": {
      "text/plain": [
       "['cgau1',\n",
       " 'cgau2',\n",
       " 'cgau3',\n",
       " 'cgau4',\n",
       " 'cgau5',\n",
       " 'cgau6',\n",
       " 'cgau7',\n",
       " 'cgau8',\n",
       " 'cmor',\n",
       " 'fbsp',\n",
       " 'gaus1',\n",
       " 'gaus2',\n",
       " 'gaus3',\n",
       " 'gaus4',\n",
       " 'gaus5',\n",
       " 'gaus6',\n",
       " 'gaus7',\n",
       " 'gaus8',\n",
       " 'mexh',\n",
       " 'morl',\n",
       " 'shan']"
      ]
     },
     "execution_count": 113,
     "metadata": {},
     "output_type": "execute_result"
    }
   ],
   "source": [
    "##Continuous Wavelet Transform \n",
    "#coef,freq=pywt.cwt(data, scales, wavelet)\n",
    "wavelist=pywt.wavelist(kind='continuous')\n",
    "wavelist"
   ]
  },
  {
   "cell_type": "code",
   "execution_count": 116,
   "id": "b3af4968-5c1a-488d-a07f-6016cef79f16",
   "metadata": {},
   "outputs": [
    {
     "data": {
      "image/png": "[encoded data removed]",
      "text/plain": [
       "<Figure size 1152x288 with 1 Axes>"
      ]
     },
     "metadata": {
      "needs_background": "light"
     },
     "output_type": "display_data"
    }
   ],
   "source": [
    "import numpy as np \n",
    "import matplotlib.pyplot as plt \n",
    "x=np.arange(512)\n",
    "y=np.sin(2*np.pi*x/32.)\n",
    "coef,freqs=pywt.cwt(y,np.arange(1,129),'gaus2')\n",
    "plt.matshow(coef)\n",
    "plt.show()"
   ]
  },
  {
   "cell_type": "code",
   "execution_count": 118,
   "id": "ac1c7a0e-0555-409c-b614-6fc87ed27c44",
   "metadata": {},
   "outputs": [
    {
     "data": {
      "image/png": "[encoded data removed]",
      "text/plain": [
       "<Figure size 432x288 with 1 Axes>"
      ]
     },
     "metadata": {
      "needs_background": "light"
     },
     "output_type": "display_data"
    }
   ],
   "source": [
    "plt.plot(y);"
   ]
  },
  {
   "cell_type": "code",
   "execution_count": 127,
   "id": "5cdb5467-8bb1-4255-864b-5d0a150c91e6",
   "metadata": {},
   "outputs": [
    {
     "data": {
      "image/png": "[encoded data removed]",
      "text/plain": [
       "<Figure size 432x288 with 1 Axes>"
      ]
     },
     "metadata": {
      "needs_background": "light"
     },
     "output_type": "display_data"
    }
   ],
   "source": [
    "t=np.linspace(-1,1,200,endpoint=False)\n",
    "sig=np.cos(2.*np.pi*7.*t) + np.real(np.exp(-7.*(t-.4)**2.)*np.exp(1j*2*np.pi*2*(t-0.4)))\n",
    "plt.plot(sig);"
   ]
  },
  {
   "cell_type": "code",
   "execution_count": 133,
   "id": "74af2748-a01d-4428-ac7b-491e81bb7779",
   "metadata": {},
   "outputs": [
    {
     "data": {
      "image/png": "[encoded data removed]",
      "text/plain": [
       "<Figure size 432x288 with 1 Axes>"
      ]
     },
     "metadata": {
      "needs_background": "light"
     },
     "output_type": "display_data"
    }
   ],
   "source": [
    "widths=np.arange(1,31)\n",
    "cwtmatr,freqs=pywt.cwt(sig,widths,'mexh')\n",
    "plt.imshow(cwtmatr,extent=[-1,1,1,31],cmap='PRGn',aspect='auto', vmax=abs(cwtmatr).max() , vmin=-abs(cwtmatr).min())\n",
    "plt.show()"
   ]
  },
  {
   "cell_type": "code",
   "execution_count": null,
   "id": "274c379b-9b4f-403b-bb07-abd8789dea1f",
   "metadata": {},
   "outputs": [],
   "source": []
  }
 ],
 "metadata": {
  "kernelspec": {
   "display_name": "Python 3 (ipykernel)",
   "language": "python",
   "name": "python3"
  },
  "language_info": {
   "codemirror_mode": {
    "name": "ipython",
    "version": 3
   },
   "file_extension": ".py",
   "mimetype": "text/x-python",
   "name": "python",
   "nbconvert_exporter": "python",
   "pygments_lexer": "ipython3",
   "version": "3.7.0"
  }
 },
 "nbformat": 4,
 "nbformat_minor": 5
}
